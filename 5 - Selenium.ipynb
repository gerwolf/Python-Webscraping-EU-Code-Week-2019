{
 "cells": [
  {
   "cell_type": "markdown",
   "metadata": {},
   "source": [
    "# Selenium for browser automation\n",
    "Selenium is a very powerful tool that allows you to perform any task that could be done by a human in a browser such as Google Chrome and Firefox. The major difference to static HTML scraping is that Selenium allows you to programmatically access content that is being generated dynamically through Java and user interactions such as entering fields, forms and clicking buttons.<br>\n",
    "<br>\n",
    "Requirements:\n",
    "- Selenium (via pip/sudo easy_install)\n",
    "- a Web driver (e.g. Chrome driver for Google Chrome) in the same directory as your Jupyter notebook (I've uploaded the Chrome driver also to the GitHub rep)<br>\n",
    "<br>\n",
    "\n",
    "Ressources:\n",
    "- https://chromedriver.storage.googleapis.com/index.html?path=77.0.3865.40/\n",
    "- https://selenium-python.readthedocs.io/\n",
    "- https://dev.to/endtest/a-practical-guide-for-finding-elements-with-selenium-4djf\n",
    "\n",
    "One thing I forgot to mention is the CSS selector gadget which is an add-on for Chrome. It helps you to quickly identify the correct element (or group of elements) instead of using the Inspect functionality.\n",
    "- https://chrome.google.com/webstore/detail/selectorgadget/mhjhnkcfbdhnjickkkdbjoemdmbfginb?hl=de"
   ]
  },
  {
   "cell_type": "code",
   "execution_count": null,
   "metadata": {},
   "outputs": [],
   "source": [
    "from selenium import webdriver\n",
    "from bs4 import BeautifulSoup\n",
    "import os"
   ]
  },
  {
   "cell_type": "markdown",
   "metadata": {},
   "source": [
    "The cell below will open a new browser window which is identified as a \"robot\"."
   ]
  },
  {
   "cell_type": "code",
   "execution_count": null,
   "metadata": {},
   "outputs": [],
   "source": [
    "browser = webdriver.Chrome(executable_path = os.path.join(os.getcwd(), \"chromedriver\")) # Windows"
   ]
  },
  {
   "cell_type": "code",
   "execution_count": null,
   "metadata": {},
   "outputs": [],
   "source": [
    "browser.get(\"https://google.de/\")"
   ]
  },
  {
   "cell_type": "code",
   "execution_count": null,
   "metadata": {},
   "outputs": [],
   "source": [
    "search = browser.find_element_by_name('q')"
   ]
  },
  {
   "cell_type": "code",
   "execution_count": null,
   "metadata": {},
   "outputs": [],
   "source": [
    "search.send_keys('The night is dark and full of terrors')"
   ]
  },
  {
   "cell_type": "code",
   "execution_count": null,
   "metadata": {},
   "outputs": [],
   "source": [
    "search.clear()"
   ]
  },
  {
   "cell_type": "code",
   "execution_count": null,
   "metadata": {},
   "outputs": [],
   "source": [
    "year = 2017\n",
    "search.send_keys('Bundestagswahl {}'.format(year))"
   ]
  },
  {
   "cell_type": "code",
   "execution_count": null,
   "metadata": {},
   "outputs": [],
   "source": [
    "search_button = browser.find_element_by_name('btnK')\n",
    "search_button.click()"
   ]
  },
  {
   "cell_type": "markdown",
   "metadata": {},
   "source": [
    "Once you have opened a page you can retrieve its HTML source code and parse it with BeautifulSoup."
   ]
  },
  {
   "cell_type": "code",
   "execution_count": null,
   "metadata": {},
   "outputs": [],
   "source": [
    "html = browser.page_source\n",
    "soup = BeautifulSoup(html, 'html5lib')\n",
    "soup_a = soup.find_all('a')"
   ]
  },
  {
   "cell_type": "code",
   "execution_count": null,
   "metadata": {},
   "outputs": [],
   "source": [
    "for i in soup_a:\n",
    "    \n",
    "    try:\n",
    "        \n",
    "        print(i.get('href'))\n",
    "        \n",
    "    except:\n",
    "        \n",
    "        pass"
   ]
  }
 ],
 "metadata": {
  "kernelspec": {
   "display_name": "Python 3",
   "language": "python",
   "name": "python3"
  },
  "language_info": {
   "codemirror_mode": {
    "name": "ipython",
    "version": 3
   },
   "file_extension": ".py",
   "mimetype": "text/x-python",
   "name": "python",
   "nbconvert_exporter": "python",
   "pygments_lexer": "ipython3",
   "version": "3.6.6"
  }
 },
 "nbformat": 4,
 "nbformat_minor": 2
}
